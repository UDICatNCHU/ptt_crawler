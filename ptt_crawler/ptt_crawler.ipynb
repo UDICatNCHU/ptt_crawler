{
 "cells": [
  {
   "cell_type": "markdown",
   "metadata": {},
   "source": [
    "# 批踢踢網路爬蟲\n",
    "\n",
    "\n",
    "\n"
   ]
  },
  {
   "cell_type": "markdown",
   "metadata": {},
   "source": [
    "\n",
    "\n",
    "## 爬取看板資料\n",
    "\n",
    "#### 首先使用requests抓取index.html資料，再利用BeautifulSoup解析，取出上一頁的href，再從中獲得總頁數。"
   ]
  },
  {
   "cell_type": "code",
   "execution_count": null,
   "metadata": {
    "collapsed": true
   },
   "outputs": [],
   "source": [
    "url = 'https://www.ptt.cc/bbs/Gossiping/index.html'\n",
    "res = requests.get(url,cookies={'over18': '1'})\n",
    "soup = BeautifulSoup(res.text,'lxml')\n",
    "tmp = soup.select('.wide')[1]['href']\n",
    "totalpage = int(tmp[tmp.find('index') + 5 : tmp.find('.html')]) + 1"
   ]
  },
  {
   "cell_type": "markdown",
   "metadata": {},
   "source": [
    "#### 使用while迴圈從最新一頁往回執行\n",
    "#### 並且依序抓取內文裡推文的userID與其content，將取出的userID及content加入data建立成dictionary"
   ]
  },
  {
   "cell_type": "code",
   "execution_count": null,
   "metadata": {
    "collapsed": true
   },
   "outputs": [],
   "source": [
    "while (1):\n",
    "    for ele in soup.select('.title a'):\n",
    "        innerRes = requests.get('https://www.ptt.cc' + ele['href'], cookies={'over18':'1'})\n",
    "        innerSoup = BeautifulSoup(innerRes.text,'html.parser')\n",
    "        print(innerRes.url)\n",
    "        for push in innerSoup.select('.push'):\n",
    "            if push.text == '檔案過大！部分文章無法顯示':\n",
    "                continue\n",
    "            userID = push.select('.push-userid')[0].text.strip()\n",
    "            content = push.select('.push-content')[0].text.replace(':','',1).strip()\n",
    "            print(userID)\n",
    "            print(content)\n",
    "            \n",
    "            if userID not in data:\n",
    "                data[userID] = []\n",
    "                data[userID].append(content)\n",
    "            else:\n",
    "                data[userID].append(content)\n",
    "        \n",
    "        if totalpage - 1 == 0:\n",
    "            break\n",
    "        else:\n",
    "            totalpage -= 1"
   ]
  },
  {
   "cell_type": "markdown",
   "metadata": {},
   "source": [
    "abcd1234  \n",
    "今天天氣真好  \n",
    "pony666  \n",
    "我覺得可以  \n",
    "qaz02589  \n",
    "我覺得不行  \n",
    "xxcqc250  \n",
    "我愛大咪咪  \n",
    "yang7777  \n",
    "87  \n",
    "  \n",
    "...  "
   ]
  },
  {
   "cell_type": "markdown",
   "metadata": {},
   "source": [
    "#### 最後輸出成json格式"
   ]
  },
  {
   "cell_type": "code",
   "execution_count": null,
   "metadata": {
    "collapsed": true
   },
   "outputs": [],
   "source": [
    "json.dump(data, open('Gossiping.json', 'w'))\n",
    "print(data)"
   ]
  },
  {
   "cell_type": "markdown",
   "metadata": {},
   "source": [
    "```\n",
    "{  \n",
    "    \"abcd1234\":[\"今天天氣真好\"],  \n",
    "    \"pony666\":[\"我覺得可以\",\"6666666666\"],  \n",
    "    \"qaz02589\":[\"我覺得不行\",\"糖糖先記著\",\"先發給他\"],  \n",
    "    \"xxcqc250\":[\"我愛大咪咪\",\"雞腿好吃\",\"推\"],  \n",
    "    \"yang7777\":[\"87\",\"87878787\",\"8787\",\"87878787878787\"],  \n",
    "    ...  \n",
    "}  \n",
    "```\n"
   ]
  },
  {
   "cell_type": "markdown",
   "metadata": {},
   "source": [
    "## 加入MySQL資料庫\n",
    "\n",
    "#### 使用pymysql將資料依照userID、Board、Content欄位加入資料庫中，方便後續查詢。\n",
    "![table.jpg](https://i.imgur.com/sMfjJIt.jpg)"
   ]
  },
  {
   "cell_type": "code",
   "execution_count": null,
   "metadata": {
    "collapsed": true
   },
   "outputs": [],
   "source": [
    "boardArray = ['gossiping','baseball','lol','c_chat','stock','tech_job','sex','nba','movie','womentalk','mobilecomm','babymother','japan_travel','e-shopping','car','koreastar','beauty','joke','lifeismoney','marvel','boy-girl','pc_shopping']\n",
    "db = pymysql.connect(host='140.120.13.242',port=33060,user='root',passwd='udiclab@720',database='yang_ptt',charset='utf8')\n",
    "num = 0\n",
    "for bn in boardArray:\n",
    "    with open(bn + '.json','r') as file:\n",
    "        data = json.load(file)\n",
    "        for key,value in data.items():\n",
    "            cursor = db.cursor()\n",
    "            cursor.execute('insert into PTT(userID,board,content) values(%s,%s,%s)',(key,bn,json.dumps(value)))\n",
    "try: db.commit()\n",
    "except: db.rollback()\n",
    "db.close()"
   ]
  },
  {
   "cell_type": "markdown",
   "metadata": {},
   "source": [
    "## 查詢功能\n",
    "\n",
    "#### 使用MySQL語法將資料從資料庫取出，並提供查詢某用戶在ptt上的留言狀況及在特定看板的留言內容。"
   ]
  },
  {
   "cell_type": "code",
   "execution_count": null,
   "metadata": {
    "collapsed": true
   },
   "outputs": [],
   "source": [
    "cursor = db.cursor()\n",
    "cursor.execute('SELECT Board,Content FROM ptt_push as sql1 inner join (SELECT ID FROM ptt_push WHERE userID=%s) as sql2 on sql1.ID = sql2.ID',(UserID))\n",
    "result = cursor.fetchall()\n",
    "resultArray = []\n",
    "if len(result) > 0:\n",
    "    for ele in result:\n",
    "        resultArray.append({'Board':ele[0],'Content':ele[1],'Times':len(json.loads(ele[1]))})\n",
    "    sortedArray = sorted(resultArray, key=operator.itemgetter('Times'), reverse=True)\n",
    "\n",
    "    for ele in sortedArray:\n",
    "        print(ele['Board'] + ': ' + str(ele['Times']))"
   ]
  },
  {
   "cell_type": "markdown",
   "metadata": {},
   "source": [
    "## 查詢demo\n",
    "\n",
    "![demo](https://i.imgur.com/326Rg7U.jpg)"
   ]
  }
 ],
 "metadata": {
  "kernelspec": {
   "display_name": "Python 3",
   "language": "python",
   "name": "python3"
  },
  "language_info": {
   "codemirror_mode": {
    "name": "ipython",
    "version": 3
   },
   "file_extension": ".py",
   "mimetype": "text/x-python",
   "name": "python",
   "nbconvert_exporter": "python",
   "pygments_lexer": "ipython3",
   "version": "3.6.1"
  }
 },
 "nbformat": 4,
 "nbformat_minor": 2
}
